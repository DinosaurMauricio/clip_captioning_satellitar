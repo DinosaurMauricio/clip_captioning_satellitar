{
 "cells": [
  {
   "cell_type": "code",
   "execution_count": 12,
   "metadata": {},
   "outputs": [
    {
     "name": "stdout",
     "output_type": "stream",
     "text": [
      "'many buildings and green trees are in a dense residential area .': 592 occurrence(s)\n",
      "'many pieces of farmlands are together .': 434 occurrence(s)\n",
      "'many buildings are in an industrial area .': 292 occurrence(s)\n",
      "'it is a piece of green meadow .': 218 occurrence(s)\n",
      "Mean: 3.001924134139637\n"
     ]
    }
   ],
   "source": [
    "import json\n",
    "from collections import Counter\n",
    "\n",
    "# Load the JSON data from a file\n",
    "with open('data/rsicd/dataset_rsicd.json', 'r') as f:\n",
    "    data = json.load(f)\n",
    "\n",
    "# Extract captions\n",
    "captions = []\n",
    "for image in data['images']:\n",
    "    for sentence in image['sentences']:\n",
    "        captions.append(sentence['raw'])\n",
    "\n",
    "# Count the occurrences of each caption\n",
    "caption_counts = Counter(captions)\n",
    "\n",
    "\n",
    "# Display the results\n",
    "for caption, count in caption_counts.items():\n",
    "    if count > 200:\n",
    "        print(f\"'{caption}': {count} occurrence(s)\")"
   ]
  },
  {
   "cell_type": "code",
   "execution_count": 13,
   "metadata": {},
   "outputs": [
    {
     "name": "stdout",
     "output_type": "stream",
     "text": [
      "'This is a dense forest .': 415 occurrence(s)\n",
      "'The entire image is dominated by grass .': 435 occurrence(s)\n",
      "'The snow berg is consist of bare land and white snow .': 448 occurrence(s)\n",
      "'The bare and green terrace is next to some trees .': 290 occurrence(s)\n",
      "Mean: 3.6488740617180984\n"
     ]
    }
   ],
   "source": [
    "# Load the JSON data from a file\n",
    "with open('data/nwpu/dataset_nwpu.json', 'r') as f:\n",
    "    data = json.load(f)\n",
    "\n",
    "# Extract captions\n",
    "captions = []\n",
    "for category in data:\n",
    "    for image in data[category]:\n",
    "        for key, caption in image.items():\n",
    "            if key.startswith('raw'):\n",
    "                captions.append(caption)\n",
    "\n",
    "# Count the occurrences of each caption\n",
    "caption_counts = Counter(captions)\n",
    "\n",
    "# Display the results\n",
    "for caption, count in caption_counts.items():\n",
    "    if count > 289:\n",
    "        print(f\"'{caption}': {count} occurrence(s)\")\n"
   ]
  },
  {
   "cell_type": "code",
   "execution_count": 16,
   "metadata": {},
   "outputs": [
    {
     "name": "stdout",
     "output_type": "stream",
     "text": [
      "'There is a piece of farmland .': 111 occurrence(s)\n",
      "'There is a piece of cropland .': 111 occurrence(s)\n",
      "'It is a piece of farmland .': 111 occurrence(s)\n",
      "'It is a piece of cropland .': 111 occurrence(s)\n",
      "'Here is a piece of farmland .': 111 occurrence(s)\n"
     ]
    }
   ],
   "source": [
    "# Load the JSON data from a file\n",
    "with open('data/ucm/dataset.json', 'r') as f:\n",
    "    data = json.load(f)\n",
    "\n",
    "# Extract captions\n",
    "captions = []\n",
    "for image in data['images']:\n",
    "    for sentence in image['sentences']:\n",
    "        captions.append(sentence['raw'])\n",
    "\n",
    "# Count the occurrences of each caption\n",
    "caption_counts = Counter(captions)\n",
    "\n",
    "\n",
    "# Display the results\n",
    "for caption, count in caption_counts.items():\n",
    "    if count > 100:\n",
    "        print(f\"'{caption}': {count} occurrence(s)\")"
   ]
  },
  {
   "cell_type": "code",
   "execution_count": 23,
   "metadata": {},
   "outputs": [
    {
     "name": "stdout",
     "output_type": "stream",
     "text": [
      "'a residential area with houses arranged neatly and some roads go through this area': 79 occurrence(s)\n",
      "'a residential area with houses arranged neatly while many plants on the roadside': 59 occurrence(s)\n",
      "'this is a part of deep green sparkling sea': 165 occurrence(s)\n",
      "'a part of ocean with deep green waters': 56 occurrence(s)\n"
     ]
    }
   ],
   "source": [
    "# Load the text data from a file\n",
    "with open('data/sidney/filenames/descriptions_SIDNEY.txt', 'r') as f:\n",
    "    lines = f.readlines()\n",
    "\n",
    "# Extract captions (ignoring the ID)\n",
    "captions = [line.strip().split(' ', 1)[1] for line in lines]\n",
    "\n",
    "# Count the occurrences of each caption\n",
    "caption_counts = Counter(captions)\n",
    "\n",
    "# Display the results\n",
    "for caption, count in caption_counts.items():\n",
    "    if count > 50:\n",
    "        print(f\"'{caption}': {count} occurrence(s)\")"
   ]
  }
 ],
 "metadata": {
  "kernelspec": {
   "display_name": "Python 3",
   "language": "python",
   "name": "python3"
  },
  "language_info": {
   "codemirror_mode": {
    "name": "ipython",
    "version": 3
   },
   "file_extension": ".py",
   "mimetype": "text/x-python",
   "name": "python",
   "nbconvert_exporter": "python",
   "pygments_lexer": "ipython3",
   "version": "3.9.6"
  }
 },
 "nbformat": 4,
 "nbformat_minor": 2
}
